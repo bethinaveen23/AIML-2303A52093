{
  "nbformat": 4,
  "nbformat_minor": 0,
  "metadata": {
    "colab": {
      "provenance": [],
      "authorship_tag": "ABX9TyPwaStzxxzXUN1omUqT+3Je",
      "include_colab_link": true
    },
    "kernelspec": {
      "name": "python3",
      "display_name": "Python 3"
    },
    "language_info": {
      "name": "python"
    }
  },
  "cells": [
    {
      "cell_type": "markdown",
      "metadata": {
        "id": "view-in-github",
        "colab_type": "text"
      },
      "source": [
        "<a href=\"https://colab.research.google.com/github/bethinaveen23/AIML-2303A52093/blob/main/Lab02_AIML.ipynb\" target=\"_parent\"><img src=\"https://colab.research.google.com/assets/colab-badge.svg\" alt=\"Open In Colab\"/></a>"
      ]
    },
    {
      "cell_type": "markdown",
      "source": [
        "Part 1 Implement Breadth First Search Algorithm using a Queue\n",
        " 1. Given a graph with adjacency list and a starting vertex and we have to traverse the\n",
        " graph.\n",
        " 2. We will rst print the value in the starting vertex,\n",
        " 3. Continue to print the value of neighbors of the starting vertex and\n",
        " 4. Next move on to the next level after completing the current level till all the vertices of\n",
        " the graph are printed"
      ],
      "metadata": {
        "id": "bRQ-xPzS8m8L"
      }
    },
    {
      "cell_type": "code",
      "execution_count": 2,
      "metadata": {
        "colab": {
          "base_uri": "https://localhost:8080/"
        },
        "id": "u2ognd6k8fE3",
        "outputId": "02cc907f-9213-4032-e270-333566bcc0f7"
      },
      "outputs": [
        {
          "output_type": "stream",
          "name": "stdout",
          "text": [
            "the adjacent nudes\n",
            "{0: [1, 3], 1: [0, 2, 3], 2: [1, 4, 5], 3: [0, 1, 4], 4: [3, 2, 5], 5: [2, 4]}\n"
          ]
        }
      ],
      "source": [
        "from queue import Queue\n",
        "graph={0:[1,3],1:[0,2,3],2:[1,4,5],3:[0,1,4],4:[3,2,5],5:[2,4]}\n",
        "print(\"the adjacent nodes\")\n",
        "print(graph)"
      ]
    },
    {
      "cell_type": "code",
      "source": [
        "def bfs (graph, source):\n",
        "    Q=Queue()\n",
        "    visited_vertices=set()\n",
        "    Q.put(source)\n",
        "    visited_vertices.update({0})\n",
        "    while not Q.empty():\n",
        "        vertex=Q.get()\n",
        "        print(vertex,end=\"-->\")\n",
        "        for u in graph[vertex]:\n",
        "          if u not in visited_vertices:\n",
        "              Q.put(u)\n",
        "              visited_vertices.update([u])\n",
        "\n",
        "print(\"bfs traverse of graph with source 0 is:\")\n",
        "bfs(graph,0)"
      ],
      "metadata": {
        "colab": {
          "base_uri": "https://localhost:8080/"
        },
        "id": "hei9L1Yw91fo",
        "outputId": "d384250e-9edd-4b00-ec03-d9376032574d"
      },
      "execution_count": 22,
      "outputs": [
        {
          "output_type": "stream",
          "name": "stdout",
          "text": [
            "bfs traverse of graph with source 0 is:\n",
            "0-->1-->3-->2-->4-->5-->"
          ]
        }
      ]
    },
    {
      "cell_type": "markdown",
      "source": [
        "Part 2 Implement Depth First Search Algorithm using a Stack\n",
        " 0.1 DFS Stack implementations steps to be followed:\n",
        " 1. Start at the root node and push it onto the stack.\n",
        " 2. Check for any adjacent nodes of the tree and select one node.\n",
        " 3. Traverse the entire branch of the selected node and push all the nodes into the stack.\n",
        " 4. Upon reaching the end of a branch (no more adjacent nodes) ie nth leaf node, move\n",
        " back by a single step and look for adjacent nodes of the n-1th node.\n",
        " 5. If there are adjacent nodes for the n-1th node, traverse those branches and push nodes\n",
        " onto the stack."
      ],
      "metadata": {
        "id": "rZMHqZ92HGAa"
      }
    }
  ]
}