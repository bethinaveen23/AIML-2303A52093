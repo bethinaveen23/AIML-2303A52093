{
  "nbformat": 4,
  "nbformat_minor": 0,
  "metadata": {
    "colab": {
      "provenance": [],
      "authorship_tag": "ABX9TyN8PzH2XtwAwHfwtqKgQmUQ",
      "include_colab_link": true
    },
    "kernelspec": {
      "name": "python3",
      "display_name": "Python 3"
    },
    "language_info": {
      "name": "python"
    }
  },
  "cells": [
    {
      "cell_type": "markdown",
      "metadata": {
        "id": "view-in-github",
        "colab_type": "text"
      },
      "source": [
        "<a href=\"https://colab.research.google.com/github/bethinaveen23/AIML-2303A52093/blob/main/lab01_AIML.ipynb\" target=\"_parent\"><img src=\"https://colab.research.google.com/assets/colab-badge.svg\" alt=\"Open In Colab\"/></a>"
      ]
    },
    {
      "cell_type": "markdown",
      "source": [
        " Part 1 Implement Basic Data Structures using Numpy, Pandas\n",
        " 1. Lists\n",
        " 2. Arrays\n",
        " 3. Identify their type using type()\n",
        " 4. Perform mathematical operations on these datasets created- multiplication, division,\n",
        " powero\n",
        " 5. Combine text with Numpy fuction to generate a textual output- Addition of Two:\n",
        " array1 +array 2\n",
        " 6. Implement np.sin(), log(), log2(), np.exp())"
      ],
      "metadata": {
        "id": "lqeI2vxS7iop"
      }
    },
    {
      "cell_type": "code",
      "source": [
        "import numpy as np\n",
        "lst1=[1,2,3]\n",
        "array1 = np.array(lst1)\n",
        "array1\n"
      ],
      "metadata": {
        "colab": {
          "base_uri": "https://localhost:8080/"
        },
        "id": "SQaGat167mCV",
        "outputId": "00d6b3bc-e41a-430d-833b-563529b204df"
      },
      "execution_count": 16,
      "outputs": [
        {
          "output_type": "execute_result",
          "data": {
            "text/plain": [
              "array([1, 2, 3])"
            ]
          },
          "metadata": {},
          "execution_count": 16
        }
      ]
    },
    {
      "cell_type": "code",
      "source": [
        "import numpy as np\n",
        "lst2=[4,5,6]\n",
        "array2 = np.array(lst2)\n",
        "array2"
      ],
      "metadata": {
        "colab": {
          "base_uri": "https://localhost:8080/"
        },
        "id": "9Zy85wkk9Vuq",
        "outputId": "c94cf8fe-15a7-49c3-aa8a-485326cba6f8"
      },
      "execution_count": 17,
      "outputs": [
        {
          "output_type": "execute_result",
          "data": {
            "text/plain": [
              "array([4, 5, 6])"
            ]
          },
          "metadata": {},
          "execution_count": 17
        }
      ]
    },
    {
      "cell_type": "code",
      "source": [
        "type(array1)"
      ],
      "metadata": {
        "colab": {
          "base_uri": "https://localhost:8080/"
        },
        "id": "G6cdO7xj9gFU",
        "outputId": "8e45d056-fbe4-4c86-9e52-25361f544ece"
      },
      "execution_count": 18,
      "outputs": [
        {
          "output_type": "execute_result",
          "data": {
            "text/plain": [
              "numpy.ndarray"
            ]
          },
          "metadata": {},
          "execution_count": 18
        }
      ]
    },
    {
      "cell_type": "code",
      "source": [
        "type(array2)"
      ],
      "metadata": {
        "colab": {
          "base_uri": "https://localhost:8080/"
        },
        "id": "AvEwKw0r9kIf",
        "outputId": "07be6eb3-df87-4405-8774-f5b0d3293fdf"
      },
      "execution_count": 7,
      "outputs": [
        {
          "output_type": "execute_result",
          "data": {
            "text/plain": [
              "numpy.ndarray"
            ]
          },
          "metadata": {},
          "execution_count": 7
        }
      ]
    },
    {
      "cell_type": "code",
      "source": [
        "type(lst1)"
      ],
      "metadata": {
        "colab": {
          "base_uri": "https://localhost:8080/"
        },
        "id": "xcgtnm9Q9sjB",
        "outputId": "1f091014-8b67-4169-e1e0-9439f30ca3fa"
      },
      "execution_count": 30,
      "outputs": [
        {
          "output_type": "execute_result",
          "data": {
            "text/plain": [
              "tuple"
            ]
          },
          "metadata": {},
          "execution_count": 30
        }
      ]
    },
    {
      "cell_type": "code",
      "source": [
        "type(lst2)"
      ],
      "metadata": {
        "colab": {
          "base_uri": "https://localhost:8080/"
        },
        "id": "B6NQcRRO9yPS",
        "outputId": "e890fab7-9a51-44bf-a683-e5ac8b539603"
      },
      "execution_count": 31,
      "outputs": [
        {
          "output_type": "execute_result",
          "data": {
            "text/plain": [
              "tuple"
            ]
          },
          "metadata": {},
          "execution_count": 31
        }
      ]
    },
    {
      "cell_type": "markdown",
      "source": [
        " multiplication, division,poweroff arrays"
      ],
      "metadata": {
        "id": "FY1RdNKW_aIg"
      }
    },
    {
      "cell_type": "code",
      "source": [
        "print(\"multiplication of {array1} and {array2}\", array1*array2)\n",
        "print(\"division of {array1} and {array2}\", array1/array2)\n",
        "print(\"poweroff of {array1} and {array2}\", array1**array2)"
      ],
      "metadata": {
        "colab": {
          "base_uri": "https://localhost:8080/"
        },
        "id": "UNyVuwKr_fHU",
        "outputId": "217304a1-451b-4af6-99c5-1736395ed032"
      },
      "execution_count": 24,
      "outputs": [
        {
          "output_type": "stream",
          "name": "stdout",
          "text": [
            "multiplication of {array1} and {array2} [ 4 10 18]\n",
            "division of {array1} and {array2} [0.25 0.4  0.5 ]\n",
            "poweroff of {array1} and {array2} [  1  32 729]\n"
          ]
        }
      ]
    },
    {
      "cell_type": "markdown",
      "source": [
        "SUM OF ARRAYS"
      ],
      "metadata": {
        "id": "LH68Tzb0_MeG"
      }
    },
    {
      "cell_type": "code",
      "source": [
        "print(\"sum of {array1} and {array2}\", array1+array2)"
      ],
      "metadata": {
        "colab": {
          "base_uri": "https://localhost:8080/"
        },
        "id": "g6mT5Eg891kV",
        "outputId": "0253b46b-dc27-4c3b-ad72-9df1d627ad2a"
      },
      "execution_count": 21,
      "outputs": [
        {
          "output_type": "stream",
          "name": "stdout",
          "text": [
            "sum of {array1} and {array2} [5 7 9]\n"
          ]
        }
      ]
    },
    {
      "cell_type": "markdown",
      "source": [
        " np.sin(), log(), log2(), np.exp())arrays"
      ],
      "metadata": {
        "id": "JsNjUkzk_P-Z"
      }
    },
    {
      "cell_type": "code",
      "source": [
        "print(\"sin of {array1}\", np.sin(array1))\n",
        "print(\"log of {array1}\", np.log(array1))\n",
        "print(\"log2 of {array1}\", np.log2(array1))"
      ],
      "metadata": {
        "colab": {
          "base_uri": "https://localhost:8080/"
        },
        "id": "-3ZiL0PA_wb5",
        "outputId": "fc7d7dce-aff6-4a82-cae5-5a70590244dd"
      },
      "execution_count": 25,
      "outputs": [
        {
          "output_type": "stream",
          "name": "stdout",
          "text": [
            "sin of {array1} [0.84147098 0.90929743 0.14112001]\n",
            "log of {array1} [0.         0.69314718 1.09861229]\n",
            "log2 of {array1} [0.        1.        1.5849625]\n"
          ]
        }
      ]
    },
    {
      "cell_type": "code",
      "source": [
        "print(\"sin of {array2}\",np.sin(array2))\n",
        "print(\"log of {array2}\",np.log(array2))\n",
        "print(\"log2 of {array2}\",np.log2(array2))"
      ],
      "metadata": {
        "colab": {
          "base_uri": "https://localhost:8080/"
        },
        "id": "3gG8w0B1_4MF",
        "outputId": "4557833b-2557-4f62-e9dd-650796d9fabc"
      },
      "execution_count": 27,
      "outputs": [
        {
          "output_type": "stream",
          "name": "stdout",
          "text": [
            "sin of {array2} [-0.7568025  -0.95892427 -0.2794155 ]\n",
            "log of {array2} [1.38629436 1.60943791 1.79175947]\n",
            "log2 of {array2} [2.         2.32192809 2.5849625 ]\n"
          ]
        }
      ]
    }
  ]
}