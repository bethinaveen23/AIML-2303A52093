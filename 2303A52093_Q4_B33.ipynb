{
  "nbformat": 4,
  "nbformat_minor": 0,
  "metadata": {
    "colab": {
      "provenance": [],
      "authorship_tag": "ABX9TyNEaX/Thz1rs5YaG/gvgJYW",
      "include_colab_link": true
    },
    "kernelspec": {
      "name": "python3",
      "display_name": "Python 3"
    },
    "language_info": {
      "name": "python"
    }
  },
  "cells": [
    {
      "cell_type": "markdown",
      "metadata": {
        "id": "view-in-github",
        "colab_type": "text"
      },
      "source": [
        "<a href=\"https://colab.research.google.com/github/bethinaveen23/AIML-2303A52093/blob/main/2303A52093_Q4_B33.ipynb\" target=\"_parent\"><img src=\"https://colab.research.google.com/assets/colab-badge.svg\" alt=\"Open In Colab\"/></a>"
      ]
    },
    {
      "cell_type": "markdown",
      "source": [
        "#BETHI NAVEEN KUMAR\n",
        "**2303A52093**\n",
        "\n",
        "**BATCH:33**"
      ],
      "metadata": {
        "id": "kYWpdcsNqrou"
      }
    },
    {
      "cell_type": "markdown",
      "source": [
        "Assessing Mathematical Learning in Higher Education\n",
        "\n",
        "Q1: Identify the Math topic which is most hard to learn?\n",
        "\n",
        "Q2: List the top5 math sub-topics for the students?\n",
        "\n",
        "Q3. Identify the questions level most solved by the students?\n",
        "\n",
        "Q4: Name the country with most solved math problems?\n",
        "\n",
        "Q5: List top 10 keywords related to math topics most searched for?"
      ],
      "metadata": {
        "id": "F4g1jOudmPLJ"
      }
    },
    {
      "cell_type": "code",
      "execution_count": 1,
      "metadata": {
        "id": "l0MzeolZmN7T"
      },
      "outputs": [],
      "source": [
        "import pandas as pd"
      ]
    },
    {
      "cell_type": "code",
      "source": [
        "file_path = '/content/MathE dataset (4).csv'\n",
        "data = pd.read_csv(file_path, encoding='ISO-8859-1', delimiter=';', on_bad_lines='skip')"
      ],
      "metadata": {
        "id": "UGph1oRFpCjp"
      },
      "execution_count": 8,
      "outputs": []
    },
    {
      "cell_type": "code",
      "source": [
        "hardest_topic = data['Topic'].value_counts().idxmin()\n",
        "print(f\"Q1: The most hard to learn Math topic is: {hardest_topic}\")"
      ],
      "metadata": {
        "colab": {
          "base_uri": "https://localhost:8080/"
        },
        "id": "tgr1nLPqpbbG",
        "outputId": "a646b821-b565-4fac-bc7a-9c5bda9fbb01"
      },
      "execution_count": 3,
      "outputs": [
        {
          "output_type": "stream",
          "name": "stdout",
          "text": [
            "Q1: The most hard to learn Math topic is: Set Theory\n"
          ]
        }
      ]
    },
    {
      "cell_type": "code",
      "source": [
        "top_subtopics = data['Subtopic'].value_counts().head(5)\n",
        "print(\"\\nQ2: Top 5 Math Sub-Topics:\")\n",
        "print(top_subtopics)"
      ],
      "metadata": {
        "colab": {
          "base_uri": "https://localhost:8080/"
        },
        "id": "aUiEGgajpflT",
        "outputId": "ce7dca80-eac0-4871-84d8-b9909121cd46"
      },
      "execution_count": 4,
      "outputs": [
        {
          "output_type": "stream",
          "name": "stdout",
          "text": [
            "\n",
            "Q2: Top 5 Math Sub-Topics:\n",
            "Subtopic\n",
            "Vector Spaces                                         2749\n",
            "Linear Transformations                                2127\n",
            "Complex Numbers                                        592\n",
            "Algebraic expressions, Equations, and Inequalities     496\n",
            "Linear Systems                                         420\n",
            "Name: count, dtype: int64\n"
          ]
        }
      ]
    },
    {
      "cell_type": "code",
      "source": [
        "most_solved_level = data['Question Level'].value_counts().idxmax()\n",
        "print(f\"\\nQ3: The question level most solved by students is: {most_solved_level}\")"
      ],
      "metadata": {
        "colab": {
          "base_uri": "https://localhost:8080/"
        },
        "id": "bcgxX0kTpmEX",
        "outputId": "23e76cc9-8ae1-4bbf-b623-4f5931e3d448"
      },
      "execution_count": 5,
      "outputs": [
        {
          "output_type": "stream",
          "name": "stdout",
          "text": [
            "\n",
            "Q3: The question level most solved by students is: Basic\n"
          ]
        }
      ]
    },
    {
      "cell_type": "code",
      "source": [
        "top_country = data['Student Country'].value_counts().idxmax()\n",
        "print(f\"\\nQ4: The country with most solved math problems is: {top_country}\")"
      ],
      "metadata": {
        "colab": {
          "base_uri": "https://localhost:8080/"
        },
        "id": "z_flwcC3pq95",
        "outputId": "e2336252-d11b-44dc-b03e-192b4fc96f97"
      },
      "execution_count": 6,
      "outputs": [
        {
          "output_type": "stream",
          "name": "stdout",
          "text": [
            "\n",
            "Q4: The country with most solved math problems is: Portugal\n"
          ]
        }
      ]
    },
    {
      "cell_type": "code",
      "source": [
        "top_keywords = data['Keywords'].str.split(',').explode().value_counts().head(10)\n",
        "print(\"\\nQ5: Top 10 Keywords Related to Math Topics Most Searched For:\")\n",
        "print(top_keywords)"
      ],
      "metadata": {
        "colab": {
          "base_uri": "https://localhost:8080/"
        },
        "id": "wutUgEcxpukb",
        "outputId": "b8423aea-7209-4bbb-bd6d-e266eb592b3a"
      },
      "execution_count": 7,
      "outputs": [
        {
          "output_type": "stream",
          "name": "stdout",
          "text": [
            "\n",
            "Q5: Top 10 Keywords Related to Math Topics Most Searched For:\n",
            "Keywords\n",
            "Span                  1844\n",
            "Subspace              1465\n",
            "Linear combination    1254\n",
            "Basis                 1112\n",
            "Linear application     824\n",
            "Linearity              733\n",
            "Range                  713\n",
            "Kernel                 713\n",
            "Dimension              615\n",
            "Isomorphism            587\n",
            "Name: count, dtype: int64\n"
          ]
        }
      ]
    }
  ]
}